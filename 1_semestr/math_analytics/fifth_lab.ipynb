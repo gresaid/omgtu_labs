{
 "cells": [
  {
   "cell_type": "markdown",
   "source": [
    "# 1 Задание"
   ],
   "metadata": {
    "collapsed": false
   },
   "id": "cce86b4bee4c8914"
  },
  {
   "cell_type": "code",
   "outputs": [
    {
     "name": "stdout",
     "output_type": "stream",
     "text": [
      "Матрица A:\n",
      "[[ 2 -1  3  5  7]\n",
      " [ 0  4 -2  8  9]\n",
      " [ 0  0  5 -3  1]\n",
      " [ 0  0  0  6  4]\n",
      " [ 0  0  0  0  3]]\n",
      "\n",
      "Вектор B:\n",
      "[ 5  7 -2  4  6]\n",
      "\n",
      "Решение методом обратной подстановки:\n",
      "[-2.04166667 -2.01666667 -1.2        -0.66666667  2.        ]\n",
      "\n",
      "Решение с помощью np.linalg.solve:\n",
      "[-2.04166667 -2.01666667 -1.2        -0.66666667  2.        ]\n"
     ]
    }
   ],
   "source": [
    "import numpy as np\n",
    "\n",
    "# Задание произвольной верхнетреугольной матрицы порядка 5\n",
    "A = np.array([\n",
    "    [2, -1, 3, 5, 7],\n",
    "    [0, 4, -2, 8, 9],\n",
    "    [0, 0, 5, -3, 1],\n",
    "    [0, 0, 0, 6, 4],\n",
    "    [0, 0, 0, 0, 3]\n",
    "])\n",
    "\n",
    "# Произвольный вектор B\n",
    "B = np.array([5, 7, -2, 4, 6])\n",
    "\n",
    "\n",
    "# Функция для решения системы методом обратной подстановки\n",
    "def back_substitution(A, B):\n",
    "    n = len(B)\n",
    "    X = np.zeros_like(B, dtype=np.float64)\n",
    "\n",
    "    for i in range(n - 1, -1, -1):  # Обратная итерация по строкам\n",
    "        X[i] = (B[i] - np.dot(A[i, i + 1:], X[i + 1:])) / A[i, i]\n",
    "\n",
    "    return X\n",
    "\n",
    "\n",
    "# Решение системы методом обратной подстановки\n",
    "X_back_substitution = back_substitution(A, B)\n",
    "\n",
    "# Проверка решения с помощью функции np.linalg.solve\n",
    "X_np_solve = np.linalg.solve(A, B)\n",
    "\n",
    "# Вывод результатов\n",
    "print(\"Матрица A:\")\n",
    "print(A)\n",
    "print(\"\\nВектор B:\")\n",
    "print(B)\n",
    "print(\"\\nРешение методом обратной подстановки:\")\n",
    "print(X_back_substitution)\n",
    "print(\"\\nРешение с помощью np.linalg.solve:\")\n",
    "print(X_np_solve)"
   ],
   "metadata": {
    "collapsed": true,
    "ExecuteTime": {
     "end_time": "2024-10-03T18:30:41.423854200Z",
     "start_time": "2024-10-03T18:30:41.400778300Z"
    }
   },
   "id": "initial_id",
   "execution_count": 2
  },
  {
   "cell_type": "markdown",
   "source": [
    "# 2 Задание"
   ],
   "metadata": {
    "collapsed": false
   },
   "id": "8a1879866858b9c5"
  },
  {
   "cell_type": "code",
   "outputs": [
    {
     "name": "stdout",
     "output_type": "stream",
     "text": [
      "Матрица A:\n",
      "[[  4.4  -2.5  19.2 -10.8]\n",
      " [  5.5  -9.3 -14.2  13.2]\n",
      " [  7.1 -11.5   5.3  -6.7]\n",
      " [ 14.2  23.4  -8.8   5.3]]\n",
      "\n",
      "Вектор B:\n",
      "[ 4.3  6.8 -1.8  7.2]\n",
      "\n",
      "Решение системы X:\n",
      "[0.44483668 0.06731407 0.86853494 1.31156176]\n"
     ]
    }
   ],
   "source": [
    "import numpy as np\n",
    "from scipy.linalg import lu\n",
    "\n",
    "# Матрица коэффициентов A и вектор B\n",
    "A = np.array([\n",
    "    [4.4, -2.5, 19.2, -10.8],\n",
    "    [5.5, -9.3, -14.2, 13.2],\n",
    "    [7.1, -11.5, 5.3, -6.7],\n",
    "    [14.2, 23.4, -8.8, 5.3]\n",
    "])\n",
    "\n",
    "B = np.array([4.3, 6.8, -1.8, 7.2])\n",
    "\n",
    "# LU разложение\n",
    "P, L, U = lu(A)\n",
    "\n",
    "# Прямой ход: решение LY = P*B\n",
    "Y = np.linalg.solve(L, np.dot(P, B))\n",
    "\n",
    "# Обратный ход: решение UX = Y\n",
    "X = np.linalg.solve(U, Y)\n",
    "\n",
    "# Вывод результатов\n",
    "print(\"Матрица A:\")\n",
    "print(A)\n",
    "print(\"\\nВектор B:\")\n",
    "print(B)\n",
    "print(\"\\nРешение системы X:\")\n",
    "print(X)"
   ],
   "metadata": {
    "collapsed": false,
    "ExecuteTime": {
     "end_time": "2024-10-03T18:35:07.486883200Z",
     "start_time": "2024-10-03T18:35:06.877089400Z"
    }
   },
   "id": "9d71d1731769d9c8",
   "execution_count": 4
  },
  {
   "cell_type": "markdown",
   "source": [
    "# 3 "
   ],
   "metadata": {
    "collapsed": false
   },
   "id": "ae00b617971910c5"
  },
  {
   "cell_type": "code",
   "outputs": [
    {
     "name": "stdout",
     "output_type": "stream",
     "text": [
      "Матрица A:\n",
      "[[  4.4  -2.5  19.2 -10.8]\n",
      " [  5.5  -9.3 -14.2  13.2]\n",
      " [  7.1 -11.5   5.3  -6.7]\n",
      " [ 14.2  23.4  -8.8   5.3]]\n",
      "\n",
      "Вектор B:\n",
      "[ 4.3  6.8 -1.8  7.2]\n",
      "\n",
      "QR разложение методом Хаусхолдера:\n",
      "Матрица Q:\n",
      "[[ 0.25333419 -0.20513523  0.77135795  0.54657867]\n",
      " [ 0.31666774 -0.49773569 -0.61068324  0.52824871]\n",
      " [ 0.40878927 -0.62277856  0.15917782 -0.64784306]\n",
      " [ 0.81757854  0.56773726 -0.08206899 -0.05004425]]\n",
      "\n",
      "Матрица R:\n",
      "[[ 1.73683620e+01  1.08519157e+01 -4.66077341e+00  3.03828305e+00]\n",
      " [-2.34935093e-16  2.55887852e+01 -5.16756380e+00  2.82697315e+00]\n",
      " [-3.62716189e-15 -1.12485789e-15  2.50476241e+01 -1.78931417e+01]\n",
      " [-1.18050600e-15  1.16825357e-15 -3.45566339e-15  5.14514729e+00]]\n",
      "\n",
      "Решение системы X (QR разложение):\n",
      "[0.44483668 0.06731407 0.86853494 1.31156176]\n",
      "\n",
      "Решение системы X (np.linalg.solve):\n",
      "[0.44483668 0.06731407 0.86853494 1.31156176]\n",
      "\n",
      "Проверка решения (Ax = B):\n",
      "[ 4.3  6.8 -1.8  7.2]\n"
     ]
    }
   ],
   "source": [
    "import numpy as np\n",
    "\n",
    "# Матрица A и вектор B из системы уравнений\n",
    "A = np.array([\n",
    "    [4.4, -2.5, 19.2, -10.8],\n",
    "    [5.5, -9.3, -14.2, 13.2],\n",
    "    [7.1, -11.5, 5.3, -6.7],\n",
    "    [14.2, 23.4, -8.8, 5.3]\n",
    "])\n",
    "\n",
    "B = np.array([4.3, 6.8, -1.8, 7.2])\n",
    "\n",
    "# Функция для вычисления QR-разложения методом Хаусхолдера\n",
    "def qr_householder(A):\n",
    "    m, n = A.shape\n",
    "    Q = np.eye(m)\n",
    "    R = A.copy()\n",
    "    \n",
    "    for i in range(n):\n",
    "        # Вектор для отражения Хаусхолдера\n",
    "        x = R[i:, i]\n",
    "        e = np.zeros_like(x)\n",
    "        e[0] = np.linalg.norm(x)\n",
    "        \n",
    "        u = x - e\n",
    "        v = u / np.linalg.norm(u)\n",
    "        \n",
    "        # Построение матрицы Хаусхолдера\n",
    "        Q_i = np.eye(m)\n",
    "        Q_i[i:, i:] -= 2.0 * np.outer(v, v)\n",
    "        \n",
    "        # Обновление матриц Q и R\n",
    "        R = Q_i @ R\n",
    "        Q = Q @ Q_i\n",
    "    \n",
    "    return Q, R\n",
    "\n",
    "# Найдем QR разложение\n",
    "Q, R = qr_householder(A)\n",
    "\n",
    "# Решение системы через QR разложение: R * X = Q.T * B\n",
    "Y = np.dot(Q.T, B)\n",
    "X_qr = np.linalg.solve(R, Y)\n",
    "\n",
    "# Проверка решения с помощью np.linalg.solve\n",
    "X_np_solve = np.linalg.solve(A, B)\n",
    "\n",
    "# Проверка решения непосредственной подстановкой\n",
    "B_check = np.dot(A, X_qr)\n",
    "\n",
    "# Вывод результатов\n",
    "print(\"Матрица A:\")\n",
    "print(A)\n",
    "print(\"\\nВектор B:\")\n",
    "print(B)\n",
    "print(\"\\nQR разложение методом Хаусхолдера:\")\n",
    "print(\"Матрица Q:\")\n",
    "print(Q)\n",
    "print(\"\\nМатрица R:\")\n",
    "print(R)\n",
    "print(\"\\nРешение системы X (QR разложение):\")\n",
    "print(X_qr)\n",
    "print(\"\\nРешение системы X (np.linalg.solve):\")\n",
    "print(X_np_solve)\n",
    "print(\"\\nПроверка решения (Ax = B):\")\n",
    "print(B_check)"
   ],
   "metadata": {
    "collapsed": false,
    "ExecuteTime": {
     "end_time": "2024-10-03T18:37:49.208950800Z",
     "start_time": "2024-10-03T18:37:49.150529Z"
    }
   },
   "id": "72d7e6e8dd73b87e",
   "execution_count": 5
  },
  {
   "cell_type": "markdown",
   "source": [
    "# 4"
   ],
   "metadata": {
    "collapsed": false
   },
   "id": "f4d92daa7e35c5f5"
  },
  {
   "cell_type": "code",
   "outputs": [
    {
     "name": "stdout",
     "output_type": "stream",
     "text": [
      "Спектральный радиус = 2.3378 > 1. Система не сойдётся без преобразований.\n",
      "Таблица итераций:\n",
      "    Iteration            x1            x2            x3\n",
      "0         1.0  2.962963e-01 -1.000000e+00 -1.235294e+00\n",
      "1         2.0  2.113290e+00 -2.424580e+00 -3.932462e+00\n",
      "2         3.0  5.153080e+00 -3.126105e+00 -4.410634e+00\n",
      "3         4.0  6.240730e+00  2.344708e+00  5.271859e-01\n",
      "4         5.0 -2.823289e+00  1.271687e+01  2.181547e+01\n",
      "..        ...           ...           ...           ...\n",
      "95       96.0  8.643279e+32  4.715515e+33 -7.773485e+33\n",
      "96       97.0 -2.020618e+33 -1.102389e+34  1.817278e+34\n",
      "97       98.0  4.723782e+33  2.577155e+34 -4.248417e+34\n",
      "98       99.0 -1.104322e+34 -6.024849e+34  9.931911e+34\n",
      "99      100.0  2.581673e+34  1.408484e+35 -2.321873e+35\n",
      "\n",
      "[100 rows x 4 columns]\n",
      "\n",
      "Полученное решение: [ 2.58167337e+34  1.40848375e+35 -2.32187314e+35]\n",
      "Проверка решения (A @ x = B): False\n"
     ]
    }
   ],
   "source": [
    "import numpy as np\n",
    "import pandas as pd\n",
    "\n",
    "# Исходная матрица A и вектор B\n",
    "A = np.array([\n",
    "    [2.7, 3.3, 1.3],\n",
    "    [3.5, -1.7, 2.8],\n",
    "    [4.1, 5.8, -1.7]\n",
    "])\n",
    "\n",
    "B = np.array([2.1, 1.7, 0.8])\n",
    "\n",
    "# Преобразование системы к диагонально доминирующему виду\n",
    "def make_diag_dominant(A, B):\n",
    "    # Попробуем переставить строки, чтобы сделать диагональ доминирующей\n",
    "    A_transformed = np.array([\n",
    "        # Переставляем первую строку на последнюю позицию\n",
    "        [2.7, 3.3, 1.3],\n",
    "        [3.5, -1.7, 2.8],\n",
    "        [4.1, 5.8, -1.7],\n",
    "        \n",
    "    ])\n",
    "    B_transformed = np.array([0.8, 1.7, 2.1])\n",
    "    return A_transformed, B_transformed\n",
    "\n",
    "A_transformed, B_transformed = make_diag_dominant(A, B)\n",
    "\n",
    "# Спектральный радиус (максимальное собственное значение матрицы итерационного процесса)\n",
    "def spectral_radius(A):\n",
    "    D = np.diag(np.diag(A))  # Диагональная матрица\n",
    "    L = np.tril(A, -1)  # Нижняя треугольная матрица\n",
    "    U = np.triu(A, 1)   # Верхняя треугольная матрица\n",
    "    \n",
    "    # Матрица итераций\n",
    "    T = np.dot(np.linalg.inv(D), -(L + U))\n",
    "    \n",
    "    # Собственные значения\n",
    "    eigenvalues = np.linalg.eigvals(T)\n",
    "    \n",
    "    # Спектральный радиус\n",
    "    return max(abs(eigenvalues))\n",
    "\n",
    "rho = spectral_radius(A_transformed)\n",
    "\n",
    "# Если спектральный радиус < 1, можно применять метод простых итераций\n",
    "if rho < 1:\n",
    "    print(f\"Система пригодна для итераций, спектральный радиус: {rho:.4f}\")\n",
    "else:\n",
    "    print(f\"Спектральный радиус = {rho:.4f} > 1. Система не сойдётся без преобразований.\")\n",
    "\n",
    "# Итерационный метод\n",
    "def iteration_method(A, B, epsilon=1e-3, max_iter=100):\n",
    "    n = len(B)\n",
    "    x = np.zeros(n)  # Начальное приближение\n",
    "    iterations = []\n",
    "\n",
    "    for iteration in range(max_iter):\n",
    "        x_new = np.zeros(n)\n",
    "        \n",
    "        # Метод простых итераций\n",
    "        for i in range(n):\n",
    "            sum1 = sum(A[i][j] * x[j] for j in range(n) if j != i)\n",
    "            x_new[i] = (B[i] - sum1) / A[i][i]\n",
    "        \n",
    "        iterations.append([iteration + 1] + list(x_new))\n",
    "        \n",
    "        # Условие остановки по норме разности\n",
    "        if np.linalg.norm(x_new - x, ord=np.inf) < epsilon:\n",
    "            break\n",
    "        \n",
    "        x = x_new\n",
    "    \n",
    "    return np.array(iterations), x_new\n",
    "\n",
    "# Выполнение метода итераций\n",
    "iterations, solution = iteration_method(A_transformed, B_transformed)\n",
    "\n",
    "# Таблица итераций\n",
    "iterations_table = pd.DataFrame(iterations, columns=[\"Iteration\", \"x1\", \"x2\", \"x3\"])\n",
    "\n",
    "# Проверка решения\n",
    "check_solution = np.allclose(np.dot(A_transformed, solution), B_transformed)\n",
    "\n",
    "# Вывод результатов\n",
    "print(\"Таблица итераций:\")\n",
    "print(iterations_table)\n",
    "print(\"\\nПолученное решение:\", solution)\n",
    "print(\"Проверка решения (A @ x = B):\", check_solution)\n"
   ],
   "metadata": {
    "collapsed": false,
    "ExecuteTime": {
     "end_time": "2024-10-03T18:57:49.268649400Z",
     "start_time": "2024-10-03T18:57:49.191546200Z"
    }
   },
   "id": "d63d8121e781e099",
   "execution_count": 14
  },
  {
   "cell_type": "code",
   "outputs": [
    {
     "name": "stdout",
     "output_type": "stream",
     "text": [
      "Матрица A:\n",
      "[[  4.4  -2.5  19.2 -10.8]\n",
      " [  5.5  -9.3 -14.2  13.2]\n",
      " [  7.1 -11.5   5.3  -6.7]\n",
      " [ 14.2  23.4  -8.8   5.3]\n",
      " [  8.2  -3.2  14.2  14.8]]\n",
      "\n",
      "Вектор B:\n",
      "[ 4.3  6.8 -1.8  7.2 -8.4]\n",
      "\n",
      "Псевдорешение системы:\n",
      "[ 0.38466722  0.02588808 -0.34336072 -0.32744471]\n",
      "\n",
      "Проверка решения (A @ псевдорешение):\n",
      "[-1.42830728  2.42836258  2.80749217  7.35417287 -6.65047456]\n",
      "\n",
      "Невязка (разница между A @ псевдорешение и B):\n",
      "[ 5.72830728  4.37163742 -4.60749217 -0.15417287 -1.74952544]\n"
     ]
    }
   ],
   "source": [
    "import numpy as np\n",
    "\n",
    "# Матрица коэффициентов A и вектор свободных членов B\n",
    "A = np.array([\n",
    "    [4.4, -2.5, 19.2, -10.8],\n",
    "    [5.5, -9.3, -14.2, 13.2],\n",
    "    [7.1, -11.5, 5.3, -6.7],\n",
    "    [14.2, 23.4, -8.8, 5.3],\n",
    "    [8.2, -3.2, 14.2, 14.8]\n",
    "])\n",
    "\n",
    "B = np.array([4.3, 6.8, -1.8, 7.2, -8.4])\n",
    "\n",
    "# Нахождение псевдорешения методом наименьших квадратов\n",
    "pseudo_solution, residuals, rank, s = np.linalg.lstsq(A, B, rcond=None)\n",
    "\n",
    "# Проверка решения (умножение A на найденное псевдорешение)\n",
    "check_solution = np.dot(A, pseudo_solution)\n",
    "\n",
    "# Вывод результатов\n",
    "print(\"Матрица A:\")\n",
    "print(A)\n",
    "print(\"\\nВектор B:\")\n",
    "print(B)\n",
    "print(\"\\nПсевдорешение системы:\")\n",
    "print(pseudo_solution)\n",
    "print(\"\\nПроверка решения (A @ псевдорешение):\")\n",
    "print(check_solution)\n",
    "print(\"\\nНевязка (разница между A @ псевдорешение и B):\")\n",
    "print(B - check_solution)"
   ],
   "metadata": {
    "collapsed": false,
    "ExecuteTime": {
     "end_time": "2024-10-03T18:50:23.946485500Z",
     "start_time": "2024-10-03T18:50:23.893332600Z"
    }
   },
   "id": "8297460d07190a48",
   "execution_count": 8
  },
  {
   "cell_type": "code",
   "outputs": [],
   "source": [],
   "metadata": {
    "collapsed": false
   },
   "id": "293cc31cac5fb3fd"
  }
 ],
 "metadata": {
  "kernelspec": {
   "display_name": "Python 3",
   "language": "python",
   "name": "python3"
  },
  "language_info": {
   "codemirror_mode": {
    "name": "ipython",
    "version": 2
   },
   "file_extension": ".py",
   "mimetype": "text/x-python",
   "name": "python",
   "nbconvert_exporter": "python",
   "pygments_lexer": "ipython2",
   "version": "2.7.6"
  }
 },
 "nbformat": 4,
 "nbformat_minor": 5
}
