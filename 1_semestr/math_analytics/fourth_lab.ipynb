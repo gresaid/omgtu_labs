{
 "cells": [
  {
   "cell_type": "code",
   "execution_count": 15,
   "id": "initial_id",
   "metadata": {
    "ExecuteTime": {
     "end_time": "2024-09-27T15:11:18.358087Z",
     "start_time": "2024-09-27T15:11:18.352981Z"
    },
    "collapsed": true
   },
   "outputs": [],
   "source": [
    "#1 Задание"
   ]
  },
  {
   "cell_type": "code",
   "execution_count": 1,
   "id": "7e233a98e8343467",
   "metadata": {
    "ExecuteTime": {
     "end_time": "2024-09-27T15:11:18.413189Z",
     "start_time": "2024-09-27T15:11:18.403305Z"
    }
   },
   "outputs": [
    {
     "name": "stdout",
     "output_type": "stream",
     "text": [
      "Квадратная матрица 10x10:\n",
      "[[ 1  2 -3  0  0  0 -2  0  2 -1]\n",
      " [ 1  3 -3 -3  1 -1 -2  3  3 -3]\n",
      " [-2  2 -2  2 -3 -2  1  0 -3  0]\n",
      " [ 2  3 -3 -1  0 -3 -2  0  2  0]\n",
      " [ 0  3 -3 -2 -2 -2 -3 -1  1  0]\n",
      " [ 3  0 -1  1 -1 -3 -3  1  2  2]\n",
      " [ 3 -3  1 -2  1 -2 -1 -1 -3 -2]\n",
      " [-2 -2 -2  0  3  0  3 -1  0 -3]\n",
      " [ 3  0  2  1 -2 -1  1  0  1  3]\n",
      " [ 1  1  0  1  1  1 -3  3  1  0]]\n",
      "\n",
      "Минор 4-го порядка:\n",
      "[[-2  3  3 -3]\n",
      " [ 1  0 -3  0]\n",
      " [-2  0  2  0]\n",
      " [-3 -1  1  0]]\n",
      "\n",
      "Определитель минора: -12.00\n"
     ]
    }
   ],
   "source": [
    "import numpy as np\n",
    "\n",
    "# Создание случайной матрицы размера 10x10 с числами из диапазона [-3, 3]\n",
    "np.random.seed(0)  # Для воспроизводимости результатов\n",
    "matrix = np.random.randint(-3, 4, (10, 10))\n",
    "\n",
    "# Извлечение минора 4-го порядка (срез 2, 3, 4, 5 строки и 7, 8, 9, 10 столбцы)\n",
    "minor_matrix = matrix[1:5, 6:10]\n",
    "\n",
    "# Вычисление определителя минора\n",
    "minor_determinant = np.linalg.det(minor_matrix)\n",
    "\n",
    "print(\"Квадратная матрица 10x10:\")\n",
    "print(matrix)\n",
    "print(\"\\nМинор 4-го порядка:\")\n",
    "print(minor_matrix)\n",
    "print(f\"\\nОпределитель минора: {minor_determinant:.2f}\")"
   ]
  },
  {
   "cell_type": "markdown",
   "id": "47ac6a835b434395",
   "metadata": {},
   "source": [
    "# 2"
   ]
  },
  {
   "cell_type": "code",
   "execution_count": 2,
   "id": "31ccfe9432f706c4",
   "metadata": {
    "ExecuteTime": {
     "end_time": "2024-09-27T15:11:18.450058Z",
     "start_time": "2024-09-27T15:11:18.433218Z"
    }
   },
   "outputs": [
    {
     "name": "stdout",
     "output_type": "stream",
     "text": [
      "Матрица A:\n",
      "[[2.417022   2.72032449 2.00011437]\n",
      " [2.30233257 2.14675589 2.09233859]\n",
      " [2.18626021 2.34556073 2.39676747]]\n",
      "\n",
      "Матрица B:\n",
      "[[2.53881673 2.41919451 2.6852195 ]\n",
      " [2.20445225 2.87811744 2.02738759]\n",
      " [2.67046751 2.4173048  2.55868983]]\n",
      "\n",
      "Произведение (векторный алгоритм):\n",
      "[[17.47444182 18.51154582 17.12305905]\n",
      " [16.16514355 16.80622602 15.88822006]\n",
      " [17.1216803  17.83350546 16.75853383]]\n",
      "\n",
      "Произведение (матричный алгоритм по столбцам):\n",
      "[[17.47444182 18.51154582 17.12305905]\n",
      " [16.16514355 16.80622602 15.88822006]\n",
      " [17.1216803  17.83350546 16.75853383]]\n",
      "\n",
      "Произведение (np.dot):\n",
      "[[17.47444182 18.51154582 17.12305905]\n",
      " [16.16514355 16.80622602 15.88822006]\n",
      " [17.1216803  17.83350546 16.75853383]]\n"
     ]
    }
   ],
   "source": [
    "import numpy as np\n",
    "\n",
    "# Создание двух случайных матриц A и B размером 3x3 с числами из интервала (2, 3)\n",
    "np.random.seed(1)  # Для воспроизводимости\n",
    "A = np.random.uniform(2, 3, (3, 3))\n",
    "B = np.random.uniform(2, 3, (3, 3))\n",
    "\n",
    "# --- 1. Векторный алгоритм умножения матриц ---\n",
    "def matrix_multiply_vector(A, B):\n",
    "    # Размеры матриц A и B\n",
    "    rows_A, cols_A = A.shape\n",
    "    rows_B, cols_B = B.shape\n",
    "    assert cols_A == rows_B, \"Число столбцов A должно совпадать с числом строк B\"\n",
    "    \n",
    "    # Создаем результирующую матрицу C\n",
    "    C = np.zeros((rows_A, cols_B))\n",
    "    \n",
    "    # Векторное произведение (поэлементное сложение произведений строк и столбцов)\n",
    "    for i in range(rows_A):\n",
    "        for j in range(cols_B):\n",
    "            C[i, j] = np.dot(A[i, :], B[:, j])\n",
    "    return C\n",
    "\n",
    "C_vector = matrix_multiply_vector(A, B)\n",
    "\n",
    "# --- 2. Матричный алгоритм (по столбцам матрицы C) ---\n",
    "def matrix_multiply_by_columns(A, B):\n",
    "    # Размеры матриц A и B\n",
    "    rows_A, cols_A = A.shape\n",
    "    rows_B, cols_B = B.shape\n",
    "    assert cols_A == rows_B, \"Число столбцов A должно совпадать с числом строк B\"\n",
    "    \n",
    "    # Создаем результирующую матрицу C\n",
    "    C = np.zeros((rows_A, cols_B))\n",
    "    \n",
    "    # Произведение по столбцам B и строкам A\n",
    "    for j in range(cols_B):\n",
    "        C[:, j] = np.dot(A, B[:, j])\n",
    "    return C\n",
    "\n",
    "C_columns = matrix_multiply_by_columns(A, B)\n",
    "\n",
    "# --- 3. Умножение с помощью функции np.dot ---\n",
    "C_dot = np.dot(A, B)\n",
    "\n",
    "# Вывод результатов\n",
    "print(\"Матрица A:\")\n",
    "print(A)\n",
    "print(\"\\nМатрица B:\")\n",
    "print(B)\n",
    "print(\"\\nПроизведение (векторный алгоритм):\")\n",
    "print(C_vector)\n",
    "print(\"\\nПроизведение (матричный алгоритм по столбцам):\")\n",
    "print(C_columns)\n",
    "print(\"\\nПроизведение (np.dot):\")\n",
    "print(C_dot)\n",
    "\n",
    "# Проверка совпадения результатов\n",
    "assert np.allclose(C_vector, C_columns), \"Результаты векторного и матричного алгоритмов не совпадают!\"\n",
    "assert np.allclose(C_vector, C_dot), \"Результаты векторного алгоритма и np.dot не совпадают!\""
   ]
  },
  {
   "cell_type": "markdown",
   "id": "97d28b9f1c000eda",
   "metadata": {},
   "source": [
    "# 3"
   ]
  },
  {
   "cell_type": "code",
   "execution_count": 3,
   "id": "6a4740a4510d6d0",
   "metadata": {
    "ExecuteTime": {
     "end_time": "2024-09-27T15:11:18.542867Z",
     "start_time": "2024-09-27T15:11:18.533775Z"
    }
   },
   "outputs": [
    {
     "name": "stdout",
     "output_type": "stream",
     "text": [
      "Вектор-строка x:\n",
      "[-2  5  3 -2  1  8  1 -2 -3 -8]\n",
      "\n",
      "Норма ||x||_1 (собственная функция): 35\n",
      "\n",
      "Норма ||x||_1 (linalg.norm): 35.0\n"
     ]
    }
   ],
   "source": [
    "import numpy as np\n",
    "\n",
    "# Создание случайного вектора-строки 1x10 из целых чисел\n",
    "np.random.seed(2)  # Для воспроизводимости\n",
    "x = np.random.randint(-10, 10, 10)\n",
    "\n",
    "# Функция для вычисления нормы ||x||_1\n",
    "def norm_1(x):\n",
    "    return np.sum(np.abs(x))\n",
    "\n",
    "# Вычисление нормы с помощью собственной функции\n",
    "norm_1_custom = norm_1(x)\n",
    "\n",
    "# Проверка с помощью функции linalg.norm\n",
    "norm_1_linalg = np.linalg.norm(x, 1)\n",
    "\n",
    "# Вывод результатов\n",
    "print(\"Вектор-строка x:\")\n",
    "print(x)\n",
    "print(f\"\\nНорма ||x||_1 (собственная функция): {norm_1_custom}\")\n",
    "print(f\"\\nНорма ||x||_1 (linalg.norm): {norm_1_linalg}\")"
   ]
  },
  {
   "cell_type": "markdown",
   "id": "8457047e701e08bb",
   "metadata": {},
   "source": [
    "# 4"
   ]
  },
  {
   "cell_type": "code",
   "execution_count": 23,
   "id": "5aad078390763af4",
   "metadata": {
    "ExecuteTime": {
     "end_time": "2024-09-27T15:12:35.279784Z",
     "start_time": "2024-09-27T15:12:35.269767Z"
    }
   },
   "outputs": [
    {
     "name": "stdout",
     "output_type": "stream",
     "text": [
      "Случайная матрица:\n",
      "[[  0  -7  -2 -10   9]\n",
      " [  0   1  -1   0  -4]\n",
      " [-10   2  -3   4   7]\n",
      " [ -8  -8  -9   9  -5]\n",
      " [ -2   4  -9   0  -3]]\n",
      "\n",
      "Спектральная норма (собственная функция): 12.23606942666398\n",
      "Спектральная норма (linalg.norm): 20.250499945196683\n"
     ]
    }
   ],
   "source": [
    "import numpy as np\n",
    "\n",
    "# Создание случайной матрицы размером 5x5 из целых чисел\n",
    "np.random.seed(3)  # Для воспроизводимости\n",
    "matrix = np.random.randint(-10, 10, (5, 5))\n",
    "\n",
    "# Функция для нахождения спектральной нормы матрицы\n",
    "def spectral_norm(matrix):\n",
    "    # Находим собственные значения матрицы\n",
    "    eigenvalues = np.linalg.eigvals(matrix)\n",
    "    # Спектральная норма равна максимальному модулю собственных значений\n",
    "    return np.max(np.abs(eigenvalues))\n",
    "\n",
    "# Вычисление спектральной нормы с помощью собственной функции\n",
    "spectral_norm_custom = spectral_norm(matrix)\n",
    "\n",
    "# Проверка с помощью функции linalg.norm\n",
    "spectral_norm_linalg = np.linalg.norm(matrix, ord=2)\n",
    "\n",
    "# Вывод результатов\n",
    "print(\"Случайная матрица:\")\n",
    "print(matrix)\n",
    "print(f\"\\nСпектральная норма (собственная функция): {spectral_norm_custom}\")\n",
    "print(f\"Спектральная норма (linalg.norm): {spectral_norm_linalg}\")"
   ]
  },
  {
   "cell_type": "markdown",
   "id": "d1982e019f17b6ce",
   "metadata": {},
   "source": [
    "# 5"
   ]
  },
  {
   "cell_type": "code",
   "execution_count": 24,
   "id": "e43f3b8384f42c35",
   "metadata": {
    "ExecuteTime": {
     "end_time": "2024-09-27T15:12:38.383377Z",
     "start_time": "2024-09-27T15:12:38.332536Z"
    }
   },
   "outputs": [
    {
     "ename": "ValueError",
     "evalue": "operands could not be broadcast together with shapes (10,10) (7,7) ",
     "output_type": "error",
     "traceback": [
      "\u001B[1;31m---------------------------------------------------------------------------\u001B[0m",
      "\u001B[1;31mValueError\u001B[0m                                Traceback (most recent call last)",
      "Cell \u001B[1;32mIn[24], line 34\u001B[0m\n\u001B[0;32m     31\u001B[0m     \u001B[38;5;28;01mreturn\u001B[39;00m H \u001B[38;5;241m@\u001B[39m x\n\u001B[0;32m     33\u001B[0m \u001B[38;5;66;03m# Применение отражения Хаусхолдера\u001B[39;00m\n\u001B[1;32m---> 34\u001B[0m x_reflected \u001B[38;5;241m=\u001B[39m householder_reflection(x)\n\u001B[0;32m     36\u001B[0m \u001B[38;5;66;03m# Вывод результатов\u001B[39;00m\n\u001B[0;32m     37\u001B[0m \u001B[38;5;28mprint\u001B[39m(\u001B[38;5;124m\"\u001B[39m\u001B[38;5;124mИсходный вектор x:\u001B[39m\u001B[38;5;124m\"\u001B[39m)\n",
      "Cell \u001B[1;32mIn[24], line 28\u001B[0m, in \u001B[0;36mhouseholder_reflection\u001B[1;34m(x)\u001B[0m\n\u001B[0;32m     25\u001B[0m I \u001B[38;5;241m=\u001B[39m np\u001B[38;5;241m.\u001B[39meye(\u001B[38;5;28mlen\u001B[39m(x))\n\u001B[0;32m     27\u001B[0m \u001B[38;5;66;03m# Составляем вектор для отражения\u001B[39;00m\n\u001B[1;32m---> 28\u001B[0m H \u001B[38;5;241m=\u001B[39m I \u001B[38;5;241m-\u001B[39m (\u001B[38;5;241m2\u001B[39m \u001B[38;5;241m/\u001B[39m (u_norm \u001B[38;5;241m*\u001B[39m\u001B[38;5;241m*\u001B[39m \u001B[38;5;241m2\u001B[39m)) \u001B[38;5;241m*\u001B[39m np\u001B[38;5;241m.\u001B[39mouter(u, u)\n\u001B[0;32m     30\u001B[0m \u001B[38;5;66;03m# Применяем отражение к вектору\u001B[39;00m\n\u001B[0;32m     31\u001B[0m \u001B[38;5;28;01mreturn\u001B[39;00m H \u001B[38;5;241m@\u001B[39m x\n",
      "\u001B[1;31mValueError\u001B[0m: operands could not be broadcast together with shapes (10,10) (7,7) "
     ]
    }
   ],
   "source": [
    "import numpy as np\n",
    "\n",
    "# Вектор из третьего пункта\n",
    "x = np.random.randint(-10, 10, 10)\n",
    "\n",
    "# Функция для вычисления отражения Хаусхолдера\n",
    "def householder_reflection(x):\n",
    "    # Извлекаем нужные координаты\n",
    "    v = x[3:]  # координаты с 4 по 10\n",
    "    norm_v = np.linalg.norm(v)\n",
    "    \n",
    "    # Определяем с коэффициентом c для отражения\n",
    "    if norm_v == 0:\n",
    "        return x  # Если вектор нулевой, возвращаем его без изменений\n",
    "\n",
    "    # Составляем вектор u\n",
    "    u = v.copy()\n",
    "    u[0] += np.sign(v[0]) * norm_v  # добавляем знак к первому элементу\n",
    "    \n",
    "    # Нормируем вектор u\n",
    "    u_norm = np.linalg.norm(u)\n",
    "    \n",
    "    # Создаем матрицу отражения H\n",
    "    # Размерность матрицы отражения должна быть той же, что и размерность вектора\n",
    "    I = np.eye(len(x))\n",
    "    \n",
    "    # Составляем вектор для отражения\n",
    "    H = I - (2 / (u_norm ** 2)) * np.outer(u, u)\n",
    "    \n",
    "    # Применяем отражение к вектору\n",
    "    return H @ x\n",
    "\n",
    "# Применение отражения Хаусхолдера\n",
    "x_reflected = householder_reflection(x)\n",
    "\n",
    "# Вывод результатов\n",
    "print(\"Исходный вектор x:\")\n",
    "print(x)\n",
    "print(\"\\nВектор после отражения Хаусхолдера:\")\n",
    "print(x_reflected)"
   ]
  },
  {
   "cell_type": "markdown",
   "id": "d532baa39ad6af2c",
   "metadata": {},
   "source": [
    "# 6"
   ]
  },
  {
   "cell_type": "code",
   "execution_count": 25,
   "id": "644bd64d7442ec46",
   "metadata": {
    "ExecuteTime": {
     "end_time": "2024-09-27T15:14:34.176385Z",
     "start_time": "2024-09-27T15:14:34.163632Z"
    }
   },
   "outputs": [
    {
     "name": "stdout",
     "output_type": "stream",
     "text": [
      "Исходная матрица:\n",
      "[[  4  -5  -9  -2  -2]\n",
      " [  8  -1  -3   3  -2]\n",
      " [ -6   8   2  -4   0]\n",
      " [ -7 -10  -1  -4  -4]\n",
      " [ -8   4  -2   7  -8]]\n",
      "\n",
      "Матрица L:\n",
      "[[ 1.          0.          0.          0.          0.        ]\n",
      " [ 2.          1.          0.          0.          0.        ]\n",
      " [-1.5         0.05555556  1.          0.          0.        ]\n",
      " [-1.75       -2.08333333 -1.17567568  1.          0.        ]\n",
      " [-2.         -0.66666667  0.81081081 -8.51685393  1.        ]]\n",
      "\n",
      "Матрица U:\n",
      "[[  4.          -5.          -9.          -2.          -2.        ]\n",
      " [  0.           9.          15.           7.           2.        ]\n",
      " [  0.           0.         -12.33333333  -7.38888889  -3.11111111]\n",
      " [  0.           0.           0.          -1.6036036   -6.99099099]\n",
      " [  0.           0.           0.           0.         -67.68539326]]\n",
      "\n",
      "Проверка (L @ U):\n",
      "[[  4.  -5.  -9.  -2.  -2.]\n",
      " [  8.  -1.  -3.   3.  -2.]\n",
      " [ -6.   8.   2.  -4.   0.]\n",
      " [ -7. -10.  -1.  -4.  -4.]\n",
      " [ -8.   4.  -2.   7.  -8.]]\n"
     ]
    }
   ],
   "source": [
    "import numpy as np\n",
    "\n",
    "# Создание случайной матрицы размером 5x5 из целых чисел\n",
    "np.random.seed(4)  # Для воспроизводимости\n",
    "matrix = np.random.randint(-10, 10, (5, 5))\n",
    "\n",
    "# Функция для LU разложения\n",
    "def lu_decomposition(matrix):\n",
    "    n = matrix.shape[0]\n",
    "    L = np.zeros((n, n))\n",
    "    U = np.zeros((n, n))\n",
    "\n",
    "    for i in range(n):\n",
    "        # U формируется по строкам\n",
    "        for j in range(i, n):\n",
    "            U[i, j] = matrix[i, j] - np.sum(L[i, :i] * U[:i, j])\n",
    "\n",
    "        # L формируется по столбцам\n",
    "        for j in range(i, n):\n",
    "            if U[i, i] == 0:\n",
    "                raise ValueError(\"Матрица является вырожденной.\")\n",
    "            L[j, i] = (matrix[j, i] - np.sum(L[j, :i] * U[:i, i])) / U[i, i]\n",
    "\n",
    "        L[i, i] = 1  # диагональные элементы L равны 1\n",
    "\n",
    "    return L, U\n",
    "\n",
    "# Применение LU разложения\n",
    "L, U = lu_decomposition(matrix)\n",
    "\n",
    "# Проверка результата перемножением матриц L и U\n",
    "LU_product = L @ U\n",
    "\n",
    "# Вывод результатов\n",
    "print(\"Исходная матрица:\")\n",
    "print(matrix)\n",
    "print(\"\\nМатрица L:\")\n",
    "print(L)\n",
    "print(\"\\nМатрица U:\")\n",
    "print(U)\n",
    "print(\"\\nПроверка (L @ U):\")\n",
    "print(LU_product)"
   ]
  },
  {
   "cell_type": "markdown",
   "id": "350361ab8be1163c",
   "metadata": {},
   "source": [
    "# 7"
   ]
  }
 ],
 "metadata": {
  "kernelspec": {
   "display_name": "Python 3",
   "language": "python",
   "name": "python3"
  },
  "language_info": {
   "codemirror_mode": {
    "name": "ipython",
    "version": 3
   },
   "file_extension": ".py",
   "mimetype": "text/x-python",
   "name": "python",
   "nbconvert_exporter": "python",
   "pygments_lexer": "ipython3",
   "version": "3.12.6"
  }
 },
 "nbformat": 4,
 "nbformat_minor": 5
}
