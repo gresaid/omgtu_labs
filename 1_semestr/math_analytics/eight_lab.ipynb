{
 "cells": [
  {
   "cell_type": "code",
   "id": "initial_id",
   "metadata": {
    "collapsed": true,
    "ExecuteTime": {
     "end_time": "2024-10-16T14:29:47.616093Z",
     "start_time": "2024-10-16T14:29:45.553419Z"
    }
   },
   "source": [
    "import numpy as np\n",
    "import pandas as pd\n",
    "from scipy.stats import chi2_contingency\n",
    "\n",
    "# Подготовка данных\n",
    "data = np.array([[201, 305, 221],   # Мужчины\n",
    "                 [231, 205, 225]])  # Женщины\n",
    "\n",
    "# Создание DataFrame для удобства\n",
    "labels = ['Чай', 'Кофе', 'Сок']\n",
    "index = ['Мужчины', 'Женщины']\n",
    "df = pd.DataFrame(data, index=index, columns=labels)\n",
    "\n",
    "# Проведение теста хи-квадрат\n",
    "chi2, p, dof, expected = chi2_contingency(data)\n",
    "\n",
    "# Вывод результатов\n",
    "print(\"Таблица наблюдаемых значений:\")\n",
    "print(df)\n",
    "print(\"\\nОжидаемые значения:\")\n",
    "print(expected)\n",
    "print(f\"\\nСтатистика хи-квадрат: {chi2}, p-значение: {p}, Степени свободы: {dof}\")\n",
    "\n",
    "# Интерпретация результатов\n",
    "alpha = 0.05\n",
    "if p < alpha:\n",
    "    print(\"\\nМы отвергаем нулевую гипотезу: есть значимая связь между полом и выбором напитка.\")\n",
    "else:\n",
    "    print(\"\\nМы не отвергаем нулевую гипотезу: нет значимой связи между полом и выбором напитка.\")\n"
   ],
   "outputs": [
    {
     "name": "stdout",
     "output_type": "stream",
     "text": [
      "Таблица наблюдаемых значений:\n",
      "         Чай  Кофе  Сок\n",
      "Мужчины  201   305  221\n",
      "Женщины  231   205  225\n",
      "\n",
      "Ожидаемые значения:\n",
      "[[226.27089337 267.12536023 233.6037464 ]\n",
      " [205.72910663 242.87463977 212.3962536 ]]\n",
      "\n",
      "Статистика хи-квадрат: 18.630847538561056, p-значение: 9.002494410788869e-05, Степени свободы: 2\n",
      "\n",
      "Мы отвергаем нулевую гипотезу: есть значимая связь между полом и выбором напитка.\n"
     ]
    }
   ],
   "execution_count": 1
  }
 ],
 "metadata": {
  "kernelspec": {
   "display_name": "Python 3",
   "language": "python",
   "name": "python3"
  },
  "language_info": {
   "codemirror_mode": {
    "name": "ipython",
    "version": 2
   },
   "file_extension": ".py",
   "mimetype": "text/x-python",
   "name": "python",
   "nbconvert_exporter": "python",
   "pygments_lexer": "ipython2",
   "version": "2.7.6"
  }
 },
 "nbformat": 4,
 "nbformat_minor": 5
}
