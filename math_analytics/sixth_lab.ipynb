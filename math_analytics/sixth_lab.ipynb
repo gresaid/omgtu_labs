{
 "cells": [
  {
   "cell_type": "markdown",
   "source": [
    "1"
   ],
   "metadata": {
    "collapsed": false
   },
   "id": "98b1d220b04ca8ca"
  },
  {
   "cell_type": "code",
   "outputs": [
    {
     "name": "stdout",
     "output_type": "stream",
     "text": [
      "     pcost       dcost       gap    pres   dres   k/t\n",
      " 0:  5.2178e+01  5.2178e+01  2e+01  4e-01  1e-16  1e+00\n",
      " 1:  6.5782e+01  6.7161e+01  3e+01  4e-01  2e-16  2e+00\n",
      " 2:  6.8323e+01  6.8374e+01  7e-01  8e-03  3e-16  8e-02\n",
      " 3:  6.8663e+01  6.8664e+01  7e-03  9e-05  0e+00  8e-04\n",
      " 4:  6.8667e+01  6.8667e+01  7e-05  9e-07  2e-16  8e-06\n",
      " 5:  6.8667e+01  6.8667e+01  7e-07  9e-09  2e-16  8e-08\n",
      "Optimal solution found.\n",
      "0.0012350082397460938 0.007912874221801758\n"
     ]
    }
   ],
   "source": [
    "import cvxopt\n",
    "from scipy.optimize import linprog\n",
    "import time\n",
    "\n",
    "# Коэффициенты целевой функции (прибыль)\n",
    "c = [-6, -8]  # Мы минимизируем, поэтому коэффициенты отрицательные\n",
    "\n",
    "# Коэффициенты ограничений\n",
    "A = [\n",
    "    [2, 4],\n",
    "    [0.5, 3],\n",
    "    [2, 0],\n",
    "    [1, 5]\n",
    "]\n",
    "b = [20, 17, 10, 19]\n",
    "\n",
    "# Решение с помощью scipy\n",
    "start_scipy = time.time()\n",
    "result_scipy = linprog(c, A_ub=A, b_ub=b, bounds=(0, None), method='highs')\n",
    "end_scipy = time.time()\n",
    "\n",
    "# Решение с помощью cvxopt\n",
    "from cvxopt import matrix, solvers\n",
    "\n",
    "# Преобразуем коэффициенты для cvxopt\n",
    "c_cvxopt = matrix([6.0, 8.0])\n",
    "G_cvxopt = matrix([[-2.0, -0.5, -2.0, -1.0], [-4.0, -3.0, 0.0, -5.0]])  # Ограничения\n",
    "b_cvxopt = matrix([-20.0, -17.0, -10.0, -19.0])\n",
    "\n",
    "start_cvxopt = time.time()\n",
    "sol_cvxopt = solvers.lp(c_cvxopt, G_cvxopt, b_cvxopt)\n",
    "end_cvxopt = time.time()\n",
    "\n",
    "# Время выполнения\n",
    "scipy_time = end_scipy - start_scipy\n",
    "cvxopt_time = end_cvxopt - start_cvxopt\n",
    "\n",
    "print(scipy_time, cvxopt_time)"
   ],
   "metadata": {
    "collapsed": false,
    "ExecuteTime": {
     "end_time": "2024-10-03T19:06:24.500199800Z",
     "start_time": "2024-10-03T19:06:24.481127500Z"
    }
   },
   "id": "2fd6532d27993517",
   "execution_count": 3
  },
  {
   "cell_type": "code",
   "outputs": [
    {
     "name": "stdout",
     "output_type": "stream",
     "text": [
      "Оптимальное решение:\n",
      "[[ 0.  0. -0. 30. 40.]\n",
      " [ 0. 60.  0. 20.  0.]\n",
      " [20.  0. 70.  0.  0.]]\n",
      "Минимальная стоимость: 11500.0\n",
      "        message: Optimization terminated successfully. (HiGHS Status 7: Optimal)\n",
      "        success: True\n",
      "         status: 0\n",
      "            fun: 11500.0\n",
      "              x: [ 0.000e+00  0.000e+00 ...  0.000e+00  0.000e+00]\n",
      "            nit: 10\n",
      "          lower:  residual: [ 0.000e+00  0.000e+00 ...  0.000e+00\n",
      "                              0.000e+00]\n",
      "                 marginals: [ 2.000e+01  3.000e+01 ...  2.000e+01\n",
      "                              2.000e+01]\n",
      "          upper:  residual: [       inf        inf ...        inf\n",
      "                                    inf]\n",
      "                 marginals: [ 0.000e+00  0.000e+00 ...  0.000e+00\n",
      "                              0.000e+00]\n",
      "          eqlin:  residual: [ 0.000e+00  0.000e+00  0.000e+00  0.000e+00\n",
      "                              0.000e+00  0.000e+00  0.000e+00  0.000e+00]\n",
      "                 marginals: [ 1.000e+01 -1.000e+01 -0.000e+00  4.000e+01\n",
      "                              6.000e+01  3.000e+01  7.000e+01  4.000e+01]\n",
      "        ineqlin:  residual: []\n",
      "                 marginals: []\n",
      " mip_node_count: 0\n",
      " mip_dual_bound: 0.0\n",
      "        mip_gap: 0.0\n"
     ]
    }
   ],
   "source": [
    "import numpy as np\n",
    "from scipy.optimize import linprog\n",
    "\n",
    "# Данные задачи\n",
    "c = np.array([70, 100, 40, 80, 50,\n",
    "              90, 50, 120, 60, 70,\n",
    "              40, 80, 30, 90, 60])  # Стоимость перевозки\n",
    "\n",
    "# Условия задачи\n",
    "a = np.array([70, 80, 90])  # Поставщики\n",
    "b = np.array([20, 60, 70, 50, 40])  # Потребители\n",
    "\n",
    "# Определяем размерность\n",
    "m = len(a)  # Количество поставщиков\n",
    "n = len(b)  # Количество потребителей\n",
    "\n",
    "# Матрица ограничений\n",
    "A_eq = np.zeros((m + n, m * n))\n",
    "\n",
    "# Ограничения по поставщикам\n",
    "for i in range(m):\n",
    "    for j in range(n):\n",
    "        A_eq[i, i * n + j] = 1\n",
    "\n",
    "# Ограничения по потребителям\n",
    "for j in range(n):\n",
    "    for i in range(m):\n",
    "        A_eq[m + j, i * n + j] = 1\n",
    "\n",
    "# Векторы правой части ограничений\n",
    "b_eq = np.concatenate([a, b])\n",
    "\n",
    "# Решение задачи линейного программирования\n",
    "result = linprog(c, A_eq=A_eq, b_eq=b_eq, method='highs')\n",
    "\n",
    "# Вывод результатов\n",
    "if result.success:\n",
    "    print(\"Оптимальное решение:\")\n",
    "    print(result.x.reshape((m, n)))  # Переформатирование результата в матрицу\n",
    "    print(\"Минимальная стоимость:\", result.fun)\n",
    "    print(result)\n",
    "else:\n",
    "    print(\"Не удалось найти решение.\")\n"
   ],
   "metadata": {
    "collapsed": false,
    "ExecuteTime": {
     "end_time": "2024-10-03T19:19:16.143616400Z",
     "start_time": "2024-10-03T19:19:16.110231Z"
    }
   },
   "id": "d62029a206028454",
   "execution_count": 6
  },
  {
   "cell_type": "code",
   "outputs": [],
   "source": [],
   "metadata": {
    "collapsed": false
   },
   "id": "c9150da469f0be68"
  }
 ],
 "metadata": {
  "kernelspec": {
   "display_name": "Python 3",
   "language": "python",
   "name": "python3"
  },
  "language_info": {
   "codemirror_mode": {
    "name": "ipython",
    "version": 2
   },
   "file_extension": ".py",
   "mimetype": "text/x-python",
   "name": "python",
   "nbconvert_exporter": "python",
   "pygments_lexer": "ipython2",
   "version": "2.7.6"
  }
 },
 "nbformat": 4,
 "nbformat_minor": 5
}
