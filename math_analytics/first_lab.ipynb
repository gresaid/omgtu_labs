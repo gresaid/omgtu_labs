{
 "cells": [
  {
   "cell_type": "markdown",
   "metadata": {},
   "source": [
    "# 1 задание"
   ]
  },
  {
   "cell_type": "code",
   "execution_count": 5,
   "metadata": {},
   "outputs": [
    {
     "data": {
      "text/plain": [
       "array([[ 322,  552,  194],\n",
       "       [ 109,  128,  195],\n",
       "       [  35,  130, -238]])"
      ]
     },
     "execution_count": 5,
     "metadata": {},
     "output_type": "execute_result"
    }
   ],
   "source": [
    "import numpy as np\n",
    "\n",
    "# Значения переменных\n",
    "alpha = 7\n",
    "beta = 3\n",
    "gamma = 1\n",
    "mu = 0\n",
    "nu = 5\n",
    "\n",
    "# Определим матрицы с подстановкой значений\n",
    "A = np.array([\n",
    "    [2, 3 + alpha, 4 - mu],\n",
    "    [beta, gamma, nu],\n",
    "    [5, 10 * mu, -2]\n",
    "])\n",
    "\n",
    "B = np.array([\n",
    "    [beta, -3, 4 + mu],\n",
    "    [alpha, 4, nu],\n",
    "    [5 * mu, 10, -2]\n",
    "])\n",
    "\n",
    "C = np.array([\n",
    "    [-1, 3 + mu, 4 - nu],\n",
    "    [2, 1, nu],\n",
    "    [5, 5 - mu, -2]\n",
    "])\n",
    "\n",
    "# Перемножение матриц A, B и C\n",
    "result = np.matmul(np.matmul(A, B), C)\n",
    "result\n"
   ]
  },
  {
   "cell_type": "markdown",
   "metadata": {},
   "source": [
    "# Задание 2. Вычислить определитель."
   ]
  },
  {
   "cell_type": "code",
   "execution_count": 6,
   "metadata": {},
   "outputs": [
    {
     "data": {
      "text/plain": [
       "(np.float64(703.9999999999999),\n",
       " array([ 19.91795019+0.j, -13.07510175+0.j,  -0.41153288+0.j,\n",
       "          6.56868444+0.j]),\n",
       " array([[-2.47159091,  2.69034091, -1.99431818,  2.57670455],\n",
       "        [-0.01136364,  0.07386364, -0.10227273,  0.11931818],\n",
       "        [ 0.73863636, -0.80113636,  0.64772727, -0.75568182],\n",
       "        [ 0.51704545, -0.48579545,  0.40340909, -0.55397727]]))"
      ]
     },
     "execution_count": 6,
     "metadata": {},
     "output_type": "execute_result"
    }
   ],
   "source": [
    "from scipy import linalg\n",
    "\n",
    "# Определим матрицу G с подстановкой значений\n",
    "G = np.array([\n",
    "    [2, 3 + alpha, 4 + mu, 6],\n",
    "    [beta + 1, gamma, nu, 12],\n",
    "    [5, -2, 16, mu + 1],\n",
    "    [2, 7, 11, -6]\n",
    "])\n",
    "\n",
    "# Определитель матрицы\n",
    "determinant = linalg.det(G)\n",
    "\n",
    "# Собственные значения\n",
    "eigenvalues, _ = linalg.eig(G)\n",
    "\n",
    "# Обратная матрица\n",
    "inverse_G = linalg.inv(G)\n",
    "\n",
    "determinant, eigenvalues, inverse_G\n"
   ]
  },
  {
   "cell_type": "markdown",
   "metadata": {},
   "source": [
    "# Задание 3. Найти матрицу Б"
   ]
  },
  {
   "cell_type": "code",
   "execution_count": 7,
   "metadata": {},
   "outputs": [
    {
     "data": {
      "text/plain": [
       "array([[-3.,  4.,  1.],\n",
       "       [ 8., 12., -4.],\n",
       "       [ 3.,  5.,  8.]])"
      ]
     },
     "execution_count": 7,
     "metadata": {},
     "output_type": "execute_result"
    }
   ],
   "source": [
    "# Определим матрицы A и C\n",
    "A = np.array([\n",
    "    [2, -5, 7],\n",
    "    [8, 1, 9],\n",
    "    [3, -4, 12]\n",
    "])\n",
    "\n",
    "C = np.array([\n",
    "    [-25, -17, 78],\n",
    "    [11, 89, 76],\n",
    "    [-5, 24, 115]\n",
    "])\n",
    "\n",
    "# Находим обратную матрицу A\n",
    "A_inv = linalg.inv(A)\n",
    "\n",
    "# Находим матрицу B\n",
    "B = np.matmul(A_inv, C)\n",
    "B\n"
   ]
  },
  {
   "cell_type": "markdown",
   "metadata": {},
   "source": [
    "# Задание 4. Система линейных уравнений."
   ]
  },
  {
   "cell_type": "code",
   "execution_count": 8,
   "metadata": {},
   "outputs": [
    {
     "data": {
      "text/plain": [
       "array([ 2.26666667,  0.13333333,  1.13333333, -1.06666667])"
      ]
     },
     "execution_count": 8,
     "metadata": {},
     "output_type": "execute_result"
    }
   ],
   "source": [
    "# Коэффициенты переменных\n",
    "A_system = np.array([\n",
    "    [3, 1, 1, gamma],\n",
    "    [1, -nu, nu, 4],\n",
    "    [-5, 0, -1, -7],\n",
    "    [1, -6, alpha, 6]\n",
    "])\n",
    "\n",
    "# Вектор правых частей уравнений\n",
    "b_system = np.array([alpha, beta, -5, 3])\n",
    "\n",
    "# Решение системы линейных уравнений\n",
    "X_solution = linalg.solve(A_system, b_system)\n",
    "X_solution\n"
   ]
  }
 ],
 "metadata": {
  "kernelspec": {
   "display_name": ".venv",
   "language": "python",
   "name": "python3"
  },
  "language_info": {
   "codemirror_mode": {
    "name": "ipython",
    "version": 3
   },
   "file_extension": ".py",
   "mimetype": "text/x-python",
   "name": "python",
   "nbconvert_exporter": "python",
   "pygments_lexer": "ipython3",
   "version": "3.12.6"
  }
 },
 "nbformat": 4,
 "nbformat_minor": 2
}
