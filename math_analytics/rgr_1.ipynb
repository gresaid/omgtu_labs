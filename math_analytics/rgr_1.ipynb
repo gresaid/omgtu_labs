{
 "cells": [
  {
   "metadata": {},
   "cell_type": "markdown",
   "source": "# Нормальное распределение",
   "id": "23a5b89524c04af1"
  },
  {
   "metadata": {
    "ExecuteTime": {
     "end_time": "2024-10-17T18:39:56.002528Z",
     "start_time": "2024-10-17T18:39:55.981616Z"
    }
   },
   "cell_type": "code",
   "source": [
    "import numpy as np\n",
    "import scipy.stats as stats\n",
    "\n",
    "# Данные\n",
    "intervals = np.array([(0, 3), (3, 6), (6, 9), (9, 12), (12, 15), (15, 18), (18, 21), (21, 24)])\n",
    "observed_frequencies = np.array([3, 17, 20, 22, 13, 12, 10, 3])  # n_i\n",
    "N = sum(observed_frequencies)  # Общее количество наблюдений\n",
    "\n",
    "# Параметры нормального распределения\n",
    "mu = 5.58  # Среднее\n",
    "sigma = 4.92  # Стандартное отклонение\n",
    "\n",
    "# Расчет теоретических частот\n",
    "theoretical_frequencies = []\n",
    "\n",
    "for lower, upper in intervals:\n",
    "    # Вычисляем z-значения\n",
    "    z_lower = (lower - mu) / sigma\n",
    "    z_upper = (upper - mu) / sigma\n",
    "    \n",
    "    # Находим вероятности\n",
    "    p_lower = stats.norm.cdf(z_lower)\n",
    "    p_upper = stats.norm.cdf(z_upper)\n",
    "    \n",
    "    # Вычисляем вероятность попадания в интервал\n",
    "    probability = p_upper - p_lower\n",
    "    \n",
    "    # Рассчитываем теоретическую частоту\n",
    "    theoretical_frequency = probability * N\n",
    "    theoretical_frequencies.append(theoretical_frequency)\n",
    "\n",
    "# Преобразуем в массив numpy\n",
    "theoretical_frequencies = np.array(theoretical_frequencies)\n",
    "\n",
    "# Выводим теоретические частоты\n",
    "print(\"Теоретические частоты (n_i теор):\", theoretical_frequencies)\n",
    "\n",
    "# Расчет статистики χ²\n",
    "chi_squared_statistic = np.sum((observed_frequencies - theoretical_frequencies) ** 2 / theoretical_frequencies)\n",
    "\n",
    "# Выводим результат\n",
    "print(\"Статистика χ²:\", chi_squared_statistic)\n",
    "\n",
    "# Степени свободы\n",
    "degrees_of_freedom = len(intervals) - 1  # k - 1\n",
    "print(\"Степени свободы:\", degrees_of_freedom)\n",
    "\n",
    "# Критическое значение для уровня значимости 0.05\n",
    "alpha = 0.05\n",
    "critical_value = stats.chi2.ppf(1 - alpha, degrees_of_freedom)\n",
    "print(\"Критическое значение χ²:\", critical_value)\n",
    "\n",
    "# Проверка гипотезы\n",
    "if chi_squared_statistic > critical_value:\n",
    "    print(\"Отвергаем альтернативную гипотезу о нормальном распределении.\")\n",
    "else:\n",
    "    print(\"Нет оснований отвергать альтернативную гипотезу о нормальном распределении.\")\n"
   ],
   "id": "aa173c42a291cc5f",
   "outputs": [
    {
     "name": "stdout",
     "output_type": "stream",
     "text": [
      "Теоретические частоты (n_i теор): [17.16369866 23.40111602 22.24958298 14.75222511  6.81975999  2.19746291\n",
      "  0.49331851  0.07711824]\n",
      "Статистика χ²: 360.53871154028343\n",
      "Степени свободы: 7\n",
      "Критическое значение χ²: 14.067140449340169\n",
      "Отвергаем альтернативную гипотезу о нормальном распределении.\n"
     ]
    }
   ],
   "execution_count": 5
  },
  {
   "metadata": {
    "ExecuteTime": {
     "end_time": "2024-10-17T18:38:50.674251Z",
     "start_time": "2024-10-17T18:38:50.666250Z"
    }
   },
   "cell_type": "code",
   "source": "sigma",
   "id": "df14df66830a3900",
   "outputs": [
    {
     "data": {
      "text/plain": [
       "0.7584418656710384"
      ]
     },
     "execution_count": 4,
     "metadata": {},
     "output_type": "execute_result"
    }
   ],
   "execution_count": 4
  },
  {
   "metadata": {},
   "cell_type": "markdown",
   "source": "# Гамма распределение",
   "id": "3464c789b2ad0b3a"
  },
  {
   "metadata": {
    "ExecuteTime": {
     "end_time": "2024-10-17T18:45:38.547227Z",
     "start_time": "2024-10-17T18:45:38.521479Z"
    }
   },
   "cell_type": "code",
   "source": [
    "import numpy as np\n",
    "import scipy.stats as stats\n",
    "\n",
    "# Данные\n",
    "intervals = np.array([(0, 3), (3, 6), (6, 9), (9, 12), (12, 15), (15, 18), (18, 21), (21, 24)])\n",
    "observed_frequencies = np.array([3, 17, 20, 22, 13, 12, 10, 3])  # n_i\n",
    "N = sum(observed_frequencies)  # Общее количество наблюдений\n",
    "\n",
    "# Параметры гамма-распределения (параметры могут быть подобраны в зависимости от данных)\n",
    "mu = 5.58  # Среднее\n",
    "sigma = 4.92  # Стандартное отклонение\n",
    "alpha = (mu ** 2) / (sigma ** 2)\n",
    "beta = sigma ** 2 / mu\n",
    "\n",
    "# Расчет теоретических частот\n",
    "theoretical_frequencies = []\n",
    "\n",
    "for lower, upper in intervals:\n",
    "    # Вычисляем теоретическую частоту для гамма-распределения\n",
    "    p_lower = stats.gamma.cdf(lower, alpha, scale=beta)\n",
    "    p_upper = stats.gamma.cdf(upper, alpha, scale=beta)\n",
    "    \n",
    "    # Рассчитываем вероятность попадания в интервал\n",
    "    probability = p_upper - p_lower\n",
    "    \n",
    "    # Рассчитываем теоретическую частоту\n",
    "    theoretical_frequency = probability * N\n",
    "    theoretical_frequencies.append(theoretical_frequency)\n",
    "\n",
    "# Преобразуем в массив numpy\n",
    "theoretical_frequencies = np.array(theoretical_frequencies)\n",
    "\n",
    "# Выводим теоретические частоты\n",
    "print(\"Теоретические частоты (n_i теор):\", theoretical_frequencies)\n",
    "\n",
    "# Расчет статистики χ²\n",
    "chi_squared_statistic = np.sum((observed_frequencies - theoretical_frequencies) ** 2 / theoretical_frequencies)\n",
    "\n",
    "# Выводим результат\n",
    "print(\"Статистика χ²:\", chi_squared_statistic)\n",
    "\n",
    "# Степени свободы\n",
    "degrees_of_freedom = len(intervals) - 1  # k - 1\n",
    "print(\"Степени свободы:\", degrees_of_freedom)\n",
    "\n",
    "# Критическое значение для уровня значимости 0.05\n",
    "alpha = 0.05\n",
    "critical_value = stats.chi2.ppf(1 - alpha, degrees_of_freedom)\n",
    "print(\"Критическое значение χ²:\", critical_value)\n",
    "\n",
    "# Проверка гипотезы\n",
    "if chi_squared_statistic > critical_value:\n",
    "    print(\"Отвергаем альтернативную гипотезу о гамма-распределении.\")\n",
    "else:\n",
    "    print(\"Нет оснований отвергать альтернативную гипотезу о гамма-распределении.\")\n"
   ],
   "id": "d9be80bd0c9ec85",
   "outputs": [
    {
     "name": "stdout",
     "output_type": "stream",
     "text": [
      "Теоретические частоты (n_i теор): [37.1055596  27.65989685 16.14797925  8.92776907  4.81095242  2.55384665\n",
      "  1.3423419   0.70062648]\n",
      "Статистика χ²: 167.77966204515178\n",
      "Степени свободы: 7\n",
      "Критическое значение χ²: 14.067140449340169\n",
      "Отвергаем альтернативную гипотезу о гамма-распределении.\n"
     ]
    }
   ],
   "execution_count": 6
  },
  {
   "metadata": {},
   "cell_type": "markdown",
   "source": "# равномерный ",
   "id": "a0b9ac0a1228a856"
  },
  {
   "metadata": {
    "ExecuteTime": {
     "end_time": "2024-10-17T18:46:40.553964Z",
     "start_time": "2024-10-17T18:46:40.540982Z"
    }
   },
   "cell_type": "code",
   "source": [
    "import numpy as np\n",
    "import scipy.stats as stats\n",
    "\n",
    "# Данные\n",
    "observed_frequencies = np.array([3, 17, 20, 22, 13, 12, 10, 3])  # n_i\n",
    "N = sum(observed_frequencies)  # Общее количество наблюдений\n",
    "k = len(observed_frequencies)  # Количество интервалов\n",
    "\n",
    "# Шаг 1: Определение теоретических частот для равномерного распределения\n",
    "expected_frequency = N / k\n",
    "theoretical_frequencies = np.full(k, expected_frequency)\n",
    "\n",
    "# Шаг 2: Расчет статистики χ²\n",
    "chi_squared_statistic = np.sum((observed_frequencies - theoretical_frequencies) ** 2 / theoretical_frequencies)\n",
    "\n",
    "# Выводим результат\n",
    "print(\"Теоретические частоты (n_i теор):\", theoretical_frequencies)\n",
    "print(\"Статистика χ²:\", chi_squared_statistic)\n",
    "\n",
    "# Степени свободы\n",
    "degrees_of_freedom = k - 1  # k - 1\n",
    "print(\"Степени свободы:\", degrees_of_freedom)\n",
    "\n",
    "# Критическое значение для уровня значимости 0.05\n",
    "alpha = 0.05\n",
    "critical_value = stats.chi2.ppf(1 - alpha, degrees_of_freedom)\n",
    "print(\"Критическое значение χ²:\", critical_value)\n",
    "\n",
    "# Проверка гипотезы\n",
    "if chi_squared_statistic > critical_value:\n",
    "    print(\"Отвергаем гипотезу о равномерном распределении.\")\n",
    "else:\n",
    "    print(\"Нет оснований отвергать гипотезу о равномерном распределении.\")\n"
   ],
   "id": "51280a36b2c9631d",
   "outputs": [
    {
     "name": "stdout",
     "output_type": "stream",
     "text": [
      "Теоретические частоты (n_i теор): [12.5 12.5 12.5 12.5 12.5 12.5 12.5 12.5]\n",
      "Статистика χ²: 28.32\n",
      "Степени свободы: 7\n",
      "Критическое значение χ²: 14.067140449340169\n",
      "Отвергаем гипотезу о равномерном распределении.\n"
     ]
    }
   ],
   "execution_count": 7
  },
  {
   "metadata": {},
   "cell_type": "markdown",
   "source": "# Отчаяние",
   "id": "c26b05d915c6fb75"
  },
  {
   "metadata": {
    "ExecuteTime": {
     "end_time": "2024-10-17T18:55:21.232670Z",
     "start_time": "2024-10-17T18:55:20.176149Z"
    }
   },
   "cell_type": "code",
   "source": [
    "import numpy as np\n",
    "import scipy.stats as stats\n",
    "import matplotlib.pyplot as plt\n",
    "\n",
    "# Данные по частотам и интервалам\n",
    "n_i = np.array([3, 17, 20, 22, 13, 12, 10, 3])  # Частоты\n",
    "intervals = np.array([0, 3, 6, 9, 12, 15, 18, 21, 24])  # Границы интервалов\n",
    "\n",
    "# Вычисляем середины интервалов\n",
    "midpoints = (intervals[:-1] + intervals[1:]) / 2\n",
    "\n",
    "# Расширяем данные в соответствии с частотами (повторяем значения середины интервалов)\n",
    "data = np.repeat(midpoints, n_i)\n",
    "\n",
    "# Список распределений, которые будем проверять\n",
    "distributions = ['norm', 'expon', 'gamma', 'uniform', 'lognorm', 'beta']\n",
    "\n",
    "# Словарь для хранения результатов\n",
    "results = {}\n",
    "\n",
    "# Подгонка каждого распределения к данным\n",
    "for distribution in distributions:\n",
    "    dist = getattr(stats, distribution)\n",
    "    params = dist.fit(data)  # Подгонка распределения\n",
    "    \n",
    "    # Рассчитаем критерий Колмогорова-Смирнова\n",
    "    D, p_value = stats.kstest(data, distribution, args=params)\n",
    "    \n",
    "    # Сохраним результат\n",
    "    results[distribution] = {'D': D, 'p_value': p_value, 'params': params}\n",
    "\n",
    "# Отсортируем результаты по p-value\n",
    "sorted_results = sorted(results.items(), key=lambda x: x[1]['p_value'], reverse=True)\n",
    "\n",
    "# Выведем результаты\n",
    "print(\"Распределения отсортированы по p-value:\")\n",
    "for dist_name, result in sorted_results:\n",
    "    print(f\"{dist_name}: D={result['D']:.4f}, p-value={result['p_value']:.4f}, params={result['params']}\")\n",
    "    \n",
    "# Выберем распределение с наибольшим p-value\n",
    "best_dist_name, best_result = sorted_results[0]\n",
    "print(f\"\\nНаилучшее распределение: {best_dist_name} с p-value={best_result['p_value']:.4f}\")\n"
   ],
   "id": "d8a3f3f985f387b",
   "outputs": [
    {
     "name": "stdout",
     "output_type": "stream",
     "text": [
      "Распределения отсортированы по p-value:\n",
      "gamma: D=0.1160, p-value=0.1254, params=(6.804562235145746, -3.1948823475347545, 2.0831435380305647)\n",
      "lognorm: D=0.1234, p-value=0.0871, params=(0.23176251650856308, -12.015626518723428, 22.391235638825908)\n",
      "beta: D=0.1343, p-value=0.0491, params=(1.4656681480928986, 1.8744029568143268, 1.1739256113956462, 22.47784493786207)\n",
      "norm: D=0.1561, p-value=0.0135, params=(10.98, 5.294298820429387)\n",
      "uniform: D=0.1914, p-value=0.0011, params=(1.5, 21.0)\n",
      "expon: D=0.2690, p-value=0.0000, params=(1.5, 9.48)\n",
      "\n",
      "Наилучшее распределение: gamma с p-value=0.1254\n"
     ]
    }
   ],
   "execution_count": 8
  }
 ],
 "metadata": {
  "kernelspec": {
   "display_name": "Python 3",
   "language": "python",
   "name": "python3"
  },
  "language_info": {
   "codemirror_mode": {
    "name": "ipython",
    "version": 2
   },
   "file_extension": ".py",
   "mimetype": "text/x-python",
   "name": "python",
   "nbconvert_exporter": "python",
   "pygments_lexer": "ipython2",
   "version": "2.7.6"
  }
 },
 "nbformat": 4,
 "nbformat_minor": 5
}
